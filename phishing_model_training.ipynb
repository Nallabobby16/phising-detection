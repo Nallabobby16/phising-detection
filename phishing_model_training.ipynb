{
 "cells": [
  {
   "cell_type": "code",
   "execution_count": 3,
   "metadata": {},
   "outputs": [
    {
     "data": {
      "text/plain": [
       "['model/phishing_model.pkl']"
      ]
     },
     "execution_count": 3,
     "metadata": {},
     "output_type": "execute_result"
    }
   ],
   "source": [
    "import pandas as pd\n",
    "from sklearn.model_selection import train_test_split\n",
    "from sklearn.ensemble import RandomForestClassifier\n",
    "from sklearn.preprocessing import LabelEncoder\n",
    "import joblib\n",
    "\n",
    "# Load the dataset (use raw string to avoid path issues)\n",
    "data = pd.read_csv(r'C:\\Users\\prudh\\OneDrive\\Documents\\phishing_detection_project\\phishing_site_urls (1).csv')\n",
    "\n",
    "# Convert 'labele' column to numeric (1 for phishing/bad, 0 for safe/good)\n",
    "data['label'] = LabelEncoder().fit_transform(data['labele'].apply(lambda x: 1 if x == 'bad' else 0))\n",
    "\n",
    "# Feature Engineering (Example features)\n",
    "data['url_length'] = data['url'].apply(len)\n",
    "data['num_special_chars'] = data['url'].apply(lambda x: sum([1 for c in x if c in ['@', '.', '-', '_', '~', '&', '=', '/']]))\n",
    "\n",
    "# Define features (X) and target variable (y)\n",
    "X = data[['url_length', 'num_special_chars']]\n",
    "y = data['label']\n",
    "\n",
    "# Split data into training and test sets\n",
    "X_train, X_test, y_train, y_test = train_test_split(X, y, test_size=0.2, random_state=42)\n",
    "\n",
    "# Train a Random Forest model\n",
    "model = RandomForestClassifier()\n",
    "model.fit(X_train, y_train)\n",
    "\n",
    "# Save the trained model\n",
    "joblib.dump(model, 'model/phishing_model.pkl')\n"
   ]
  }
 ],
 "metadata": {
  "kernelspec": {
   "display_name": "venv",
   "language": "python",
   "name": "python3"
  },
  "language_info": {
   "codemirror_mode": {
    "name": "ipython",
    "version": 3
   },
   "file_extension": ".py",
   "mimetype": "text/x-python",
   "name": "python",
   "nbconvert_exporter": "python",
   "pygments_lexer": "ipython3",
   "version": "3.13.0"
  }
 },
 "nbformat": 4,
 "nbformat_minor": 2
}
